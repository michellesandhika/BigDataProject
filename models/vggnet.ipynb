{
  "nbformat": 4,
  "nbformat_minor": 0,
  "metadata": {
    "colab": {
      "name": "VGG16.ipynb",
      "provenance": [],
      "machine_shape": "hm"
    },
    "kernelspec": {
      "name": "python3",
      "display_name": "Python 3"
    },
    "language_info": {
      "name": "python"
    },
    "accelerator": "GPU"
  },
  "cells": [
    {
      "cell_type": "markdown",
      "source": [
        "# CNN VGG16"
      ],
      "metadata": {
        "id": "n8-rjI4RpOTO"
      }
    },
    {
      "cell_type": "markdown",
      "source": [
        "### Import libraries to be used\n",
        "\n",
        "\n",
        "\n"
      ],
      "metadata": {
        "id": "Yk2byLe1j7xI"
      }
    },
    {
      "cell_type": "code",
      "source": [
        "import numpy as np\n",
        "import pandas as pd\n",
        "from keras import Sequential\n",
        "from tensorflow.keras.applications import VGG16\n",
        "from tensorflow.keras.optimizers import SGD,Adam\n",
        "from tensorflow.keras.layers import Flatten, Dense, BatchNormalization, Activation,Dropout\n",
        "from tensorflow.keras.utils import to_categorical\n",
        "import tensorflow as tf\n",
        "\n",
        "from sklearn.model_selection import StratifiedKFold\n",
        "from sklearn.metrics import f1_score\n",
        "from statistics import mean"
      ],
      "metadata": {
        "id": "ft6wDcGfy4kx"
      },
      "execution_count": 27,
      "outputs": []
    },
    {
      "cell_type": "markdown",
      "source": [
        "### Import dataset"
      ],
      "metadata": {
        "id": "zi5zy3TLkKA0"
      }
    },
    {
      "cell_type": "code",
      "source": [
        "train_data = np.genfromtxt('/content/drive/MyDrive/BigData/dataset/sign_mnist_train.csv', delimiter=',')\n",
        "test_data = np.genfromtxt('/content/drive/MyDrive/BigData/dataset/sign_mnist_test.csv', delimiter=',')"
      ],
      "metadata": {
        "id": "OP4qQNP8zGAY"
      },
      "execution_count": 28,
      "outputs": []
    },
    {
      "cell_type": "code",
      "source": [
        "X_train = train_data[1:, 1:]\n",
        "y_train = train_data[1:, 0]\n",
        "\n",
        "X_test = test_data[1:, 1:]\n",
        "y_test = test_data[1:, 0]\n",
        "\n",
        "print(X_train.shape, y_train.shape)\n",
        "print(X_test.shape, y_test.shape)"
      ],
      "metadata": {
        "colab": {
          "base_uri": "https://localhost:8080/"
        },
        "id": "I_J5vCLTz68M",
        "outputId": "9cef3990-fe8c-4f56-8612-d133e3eb2fa6"
      },
      "execution_count": 29,
      "outputs": [
        {
          "output_type": "stream",
          "name": "stdout",
          "text": [
            "(27455, 784) (27455,)\n",
            "(7172, 784) (7172,)\n"
          ]
        }
      ]
    },
    {
      "cell_type": "markdown",
      "source": [
        "### Data preprocessing"
      ],
      "metadata": {
        "id": "DmUkdFJekMtv"
      }
    },
    {
      "cell_type": "code",
      "source": [
        "# normalise pixel values from 0-255 to 0-1\n",
        "X_train = X_train / 255.0\n",
        "X_test = X_test / 255.0\n",
        "\n",
        "# reshape 1d array of 784 to 2d array of size 28x28\n",
        "X_train = X_train.reshape(len(X_train), 28, 28)\n",
        "X_test = X_test.reshape((len(X_test)), 28, 28)\n",
        "\n",
        "# expand 28x28 to 32x32\n",
        "X_train = tf.constant(X_train)\n",
        "X_train = X_train[..., tf.newaxis]\n",
        "\n",
        "X_test = tf.constant(X_test)\n",
        "X_test = X_test[..., tf.newaxis]\n",
        "\n",
        "X_train = tf.image.resize(X_train, [32, 32]).numpy()\n",
        "X_test = tf.image.resize(X_test, [32, 32]).numpy()\n",
        "\n",
        "# increase channels from 1 to 3 for better suitability to model\n",
        "X_train = X_train[:, :,:, 0]\n",
        "X_test = X_test[:, :,:, 0]\n",
        "\n",
        "X_train = np.repeat(X_train[..., np.newaxis], 3, -1)\n",
        "X_test = np.repeat(X_test[..., np.newaxis], 3, -1)\n",
        "\n",
        "y_train = np.repeat(y_train[..., np.newaxis], 1, -1)\n",
        "y_test = np.repeat(y_test[..., np.newaxis], 1, -1)\n",
        "\n",
        "print(X_train.shape)  # (64, 224, 224, 3)\n",
        "print(X_test.shape)  # (64, 224, 224, 3)\n",
        "print(y_train.shape)\n",
        "print(y_test.shape)\n"
      ],
      "metadata": {
        "id": "QI5c8Zh83aEi",
        "colab": {
          "base_uri": "https://localhost:8080/"
        },
        "outputId": "811b8620-a9b1-4e6c-a858-0fab57ed62c3"
      },
      "execution_count": 30,
      "outputs": [
        {
          "output_type": "stream",
          "name": "stdout",
          "text": [
            "(27455, 32, 32, 3)\n",
            "(7172, 32, 32, 3)\n",
            "(27455, 1)\n",
            "(7172, 1)\n"
          ]
        }
      ]
    },
    {
      "cell_type": "markdown",
      "source": [
        "### Initialize the model"
      ],
      "metadata": {
        "id": "OgO0K2gykh-A"
      }
    },
    {
      "cell_type": "code",
      "source": [
        "# Initialize the base model\n",
        "base_model_vgg16 = VGG16(include_top = False, weights= 'imagenet', input_shape = (32,32,3), classes = y_train.shape[1])"
      ],
      "metadata": {
        "id": "XELWhk_hQIxP"
      },
      "execution_count": 31,
      "outputs": []
    },
    {
      "cell_type": "code",
      "source": [
        "# Adding final layers to model\n",
        "model = Sequential()\n",
        "model.add(base_model_vgg16) \n",
        "model.add(Flatten())\n",
        "model.add(Dense(1024,activation=('relu'),input_dim=512))\n",
        "model.add(Dense(512,activation=('relu'))) \n",
        "model.add(Dense(256,activation=('relu'))) \n",
        "model.add(Dense(128,activation=('relu')))\n",
        "model.add(Dense(25,activation=('softmax')))\n",
        "\n",
        "model.summary()\n"
      ],
      "metadata": {
        "colab": {
          "base_uri": "https://localhost:8080/"
        },
        "id": "eH6XAfW73hOQ",
        "outputId": "545bf845-95e7-4cf2-a3e3-76e78b150c9c"
      },
      "execution_count": 32,
      "outputs": [
        {
          "output_type": "stream",
          "name": "stdout",
          "text": [
            "Model: \"sequential_2\"\n",
            "_________________________________________________________________\n",
            " Layer (type)                Output Shape              Param #   \n",
            "=================================================================\n",
            " vgg16 (Functional)          (None, 1, 1, 512)         14714688  \n",
            "                                                                 \n",
            " flatten_2 (Flatten)         (None, 512)               0         \n",
            "                                                                 \n",
            " dense_10 (Dense)            (None, 1024)              525312    \n",
            "                                                                 \n",
            " dense_11 (Dense)            (None, 512)               524800    \n",
            "                                                                 \n",
            " dense_12 (Dense)            (None, 256)               131328    \n",
            "                                                                 \n",
            " dense_13 (Dense)            (None, 128)               32896     \n",
            "                                                                 \n",
            " dense_14 (Dense)            (None, 25)                3225      \n",
            "                                                                 \n",
            "=================================================================\n",
            "Total params: 15,932,249\n",
            "Trainable params: 15,932,249\n",
            "Non-trainable params: 0\n",
            "_________________________________________________________________\n"
          ]
        }
      ]
    },
    {
      "cell_type": "markdown",
      "source": [
        "### Initialize K-Fold"
      ],
      "metadata": {
        "id": "lzD2rj6Lk2Hv"
      }
    },
    {
      "cell_type": "code",
      "source": [
        "kf = StratifiedKFold(n_splits=5)"
      ],
      "metadata": {
        "id": "ZfxUxjMwUxjG"
      },
      "execution_count": 33,
      "outputs": []
    },
    {
      "cell_type": "markdown",
      "source": [
        "### Compile the model"
      ],
      "metadata": {
        "id": "WwjutTI2k6K0"
      }
    },
    {
      "cell_type": "code",
      "source": [
        "model.compile(optimizer = 'sgd', loss = 'categorical_crossentropy', metrics = ['accuracy'])\n"
      ],
      "metadata": {
        "id": "opLgJnlzC4OB"
      },
      "execution_count": 34,
      "outputs": []
    },
    {
      "cell_type": "code",
      "source": [
        "def to_binary_categorical(array):\n",
        "    new_array = []\n",
        "\n",
        "    for i in range(len(array)):\n",
        "        content = [0] * 25\n",
        "        index = np.argmax(array[i])\n",
        "        content[index] = 1\n",
        "        new_array.append(content)\n",
        "\n",
        "    return new_array"
      ],
      "metadata": {
        "id": "9yl3yShRUiFP"
      },
      "execution_count": 35,
      "outputs": []
    },
    {
      "cell_type": "markdown",
      "source": [
        "### K-Fold Cross Validation"
      ],
      "metadata": {
        "id": "4YjxqC7klAZZ"
      }
    },
    {
      "cell_type": "code",
      "source": [
        "f1_scores = []\n",
        "fold_no = 1\n",
        "\n",
        "for train_index, test_index in kf.split(X_train, y_train):\n",
        "    X_train_fold, X_test_fold = X_train[train_index], X_train[test_index]\n",
        "    y_train_fold, y_test_fold = y_train[train_index], y_train[test_index]\n",
        "\n",
        "    # one-hot\n",
        "    y_train_fold = to_categorical(y_train_fold)\n",
        "    y_test_fold = to_categorical(y_test_fold)\n",
        "\n",
        "    # fit and predict\n",
        "    model.fit(x=X_train_fold, y=y_train_fold)\n",
        "    y_predicted = model.predict(x=X_test_fold)\n",
        "\n",
        "    # convert predicted float values to binary values\n",
        "    y_predicted = to_binary_categorical(y_predicted)\n",
        "    \n",
        "    # calculate score\n",
        "    score = f1_score(y_test_fold, y_predicted, average='micro')\n",
        "    f1_scores.append(score)\n",
        "    print('Score for fold no.', fold_no ,': ',score)\n",
        "    fold_no+=1\n",
        "\n",
        "print(f1_scores)\n",
        "print('Average F1 Score:', mean(f1_scores))"
      ],
      "metadata": {
        "colab": {
          "base_uri": "https://localhost:8080/"
        },
        "id": "h69-h-Ia3kKv",
        "outputId": "890dea1d-57a6-4f7f-a8fd-5d973b643000"
      },
      "execution_count": 36,
      "outputs": [
        {
          "output_type": "stream",
          "name": "stdout",
          "text": [
            "687/687 [==============================] - 20s 28ms/step - loss: 0.8819 - accuracy: 0.7297\n",
            "Score for fold no. 1 :  0.9989073028592241\n",
            "687/687 [==============================] - 19s 28ms/step - loss: 0.0175 - accuracy: 0.9963\n",
            "Score for fold no. 2 :  1.0\n",
            "687/687 [==============================] - 19s 27ms/step - loss: 0.4862 - accuracy: 0.8694\n",
            "Score for fold no. 3 :  0.9994536514296121\n",
            "687/687 [==============================] - 19s 28ms/step - loss: 0.0040 - accuracy: 0.9989\n",
            "Score for fold no. 4 :  0.9998178838098707\n",
            "687/687 [==============================] - 19s 28ms/step - loss: 0.1818 - accuracy: 0.9572\n",
            "Score for fold no. 5 :  0.9956292114368968\n",
            "[0.9989073028592241, 1.0, 0.9994536514296121, 0.9998178838098707, 0.9956292114368968]\n",
            "Average F1 Score: 0.9987616099071207\n"
          ]
        }
      ]
    },
    {
      "cell_type": "markdown",
      "source": [
        "### Final result"
      ],
      "metadata": {
        "id": "fXPGBPC8-MUC"
      }
    },
    {
      "cell_type": "code",
      "source": [
        "y_test = to_categorical(y_test)\n",
        "\n",
        "y_predicted = model.predict(x=X_test)\n",
        "y_predicted = to_binary_categorical(y_predicted)\n",
        "\n",
        "score = f1_score(y_test, y_predicted, average='micro')\n",
        "print('F1 Score:', score)"
      ],
      "metadata": {
        "id": "lj9ctq0H3mux",
        "colab": {
          "base_uri": "https://localhost:8080/"
        },
        "outputId": "1e3b190a-d861-400e-e48f-9282f7e36a42"
      },
      "execution_count": 37,
      "outputs": [
        {
          "output_type": "stream",
          "name": "stdout",
          "text": [
            "F1 Score: 0.9637479085331846\n"
          ]
        }
      ]
    },
    {
      "cell_type": "code",
      "source": [
        ""
      ],
      "metadata": {
        "id": "ZoviXyz1rtpc"
      },
      "execution_count": 37,
      "outputs": []
    }
  ]
}