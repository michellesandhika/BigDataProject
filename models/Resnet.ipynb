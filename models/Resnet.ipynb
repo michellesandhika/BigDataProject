{
  "nbformat": 4,
  "nbformat_minor": 0,
  "metadata": {
    "colab": {
      "name": "Resnet.ipynb",
      "provenance": [],
      "machine_shape": "hm"
    },
    "kernelspec": {
      "name": "python3",
      "display_name": "Python 3"
    },
    "language_info": {
      "name": "python"
    },
    "accelerator": "GPU"
  },
  "cells": [
    {
      "cell_type": "markdown",
      "source": [
        "# CNN ResNet"
      ],
      "metadata": {
        "id": "ZZMa2uyGoC70"
      }
    },
    {
      "cell_type": "markdown",
      "source": [
        "\n",
        "\n",
        "### Import libraries to be used"
      ],
      "metadata": {
        "id": "JMXIbAh1hf0K"
      }
    },
    {
      "cell_type": "code",
      "source": [
        "import numpy as np\n",
        "import pandas as pd\n",
        "from keras import Sequential\n",
        "from tensorflow.keras.applications import ResNet50\n",
        "from tensorflow.keras.optimizers import SGD,Adam\n",
        "from tensorflow.keras.layers import Flatten, Dense, BatchNormalization, Activation,Dropout\n",
        "from tensorflow.keras.utils import to_categorical\n",
        "import tensorflow as tf\n",
        "\n",
        "from sklearn.model_selection import StratifiedKFold\n",
        "from sklearn.metrics import f1_score\n",
        "from statistics import mean"
      ],
      "metadata": {
        "id": "ft6wDcGfy4kx"
      },
      "execution_count": 3,
      "outputs": []
    },
    {
      "cell_type": "markdown",
      "source": [
        "### Import dataset"
      ],
      "metadata": {
        "id": "wvHOZVoLhmLE"
      }
    },
    {
      "cell_type": "code",
      "source": [
        "train_data = np.genfromtxt('../dataset/sign_mnist_train.csv', delimiter=',')\n",
        "test_data = np.genfromtxt('../dataset/sign_mnist_test.csv', delimiter=',')"
      ],
      "metadata": {
        "id": "OP4qQNP8zGAY"
      },
      "execution_count": 4,
      "outputs": []
    },
    {
      "cell_type": "code",
      "source": [
        "X_train = train_data[1:, 1:]\n",
        "y_train = train_data[1:, 0]\n",
        "\n",
        "X_test = test_data[1:, 1:]\n",
        "y_test = test_data[1:, 0]\n",
        "\n",
        "print(X_train.shape, y_train.shape)\n",
        "print(X_test.shape, y_test.shape)"
      ],
      "metadata": {
        "colab": {
          "base_uri": "https://localhost:8080/"
        },
        "id": "I_J5vCLTz68M",
        "outputId": "aef22d30-01ff-4fb3-eaa1-14d8e55118d8"
      },
      "execution_count": 5,
      "outputs": [
        {
          "output_type": "stream",
          "name": "stdout",
          "text": [
            "(27455, 784) (27455,)\n",
            "(7172, 784) (7172,)\n"
          ]
        }
      ]
    },
    {
      "cell_type": "markdown",
      "source": [
        "### Data preprocessing"
      ],
      "metadata": {
        "id": "ZOiFioj5h2ur"
      }
    },
    {
      "cell_type": "code",
      "source": [
        "# normalise pixel values from 0-255 to 0-1\n",
        "X_train = X_train / 255.0\n",
        "X_test = X_test / 255.0\n",
        "\n",
        "# reshape 1d array of 784 to 2d array of size 28x28\n",
        "X_train = X_train.reshape(len(X_train), 28, 28)\n",
        "X_test = X_test.reshape((len(X_test)), 28, 28)\n",
        "\n",
        "# expand 28x28 to 32x32\n",
        "X_train = tf.constant(X_train)\n",
        "X_train = X_train[..., tf.newaxis]\n",
        "\n",
        "X_test = tf.constant(X_test)\n",
        "X_test = X_test[..., tf.newaxis]\n",
        "\n",
        "X_train = tf.image.resize(X_train, [32, 32]).numpy()\n",
        "X_test = tf.image.resize(X_test, [32, 32]).numpy()\n",
        "\n",
        "# increase channels from 1 to 3 for better suitability to model\n",
        "X_train = X_train[:, :,:, 0]\n",
        "X_test = X_test[:, :,:, 0]\n",
        "\n",
        "X_train = np.repeat(X_train[..., np.newaxis], 3, -1)\n",
        "X_test = np.repeat(X_test[..., np.newaxis], 3, -1)\n",
        "\n",
        "y_train = np.repeat(y_train[..., np.newaxis], 1, -1)\n",
        "y_test = np.repeat(y_test[..., np.newaxis], 1, -1)\n",
        "\n",
        "print(X_train.shape)  \n",
        "print(X_test.shape) \n",
        "print(y_train.shape)\n",
        "print(y_test.shape)\n"
      ],
      "metadata": {
        "id": "QI5c8Zh83aEi",
        "colab": {
          "base_uri": "https://localhost:8080/"
        },
        "outputId": "beae4f76-1c33-4113-8c9e-438718799695"
      },
      "execution_count": 6,
      "outputs": [
        {
          "output_type": "stream",
          "name": "stdout",
          "text": [
            "(27455, 32, 32, 3)\n",
            "(7172, 32, 32, 3)\n",
            "(27455, 1)\n",
            "(7172, 1)\n"
          ]
        }
      ]
    },
    {
      "cell_type": "markdown",
      "source": [
        "### Initialize the model"
      ],
      "metadata": {
        "id": "Q40RWgTGiPMo"
      }
    },
    {
      "cell_type": "code",
      "source": [
        "#Initializing model\n",
        "base_model_resnet = ResNet50(include_top = False, weights = 'imagenet', input_shape = (32,32,3), classes = y_train.shape[1])\n"
      ],
      "metadata": {
        "id": "XELWhk_hQIxP"
      },
      "execution_count": 7,
      "outputs": []
    },
    {
      "cell_type": "code",
      "source": [
        "#Adding layers to model\n",
        "model=Sequential()\n",
        "model.add(base_model_resnet)\n",
        "model.add(Flatten())\n",
        "model.add(Dense(1024,activation=('relu'),input_dim=512))\n",
        "model.add(Dense(512,activation=('relu'))) \n",
        "model.add(Dropout(.4))\n",
        "model.add(Dense(256,activation=('relu'))) \n",
        "model.add(Dropout(.3))\n",
        "model.add(Dense(128,activation=('relu')))\n",
        "model.add(Dropout(.2))\n",
        "model.add(Dense(25,activation=('softmax')))\n",
        "\n",
        "#Summary of model\n",
        "model.summary()"
      ],
      "metadata": {
        "id": "eH6XAfW73hOQ",
        "colab": {
          "base_uri": "https://localhost:8080/"
        },
        "outputId": "bd5f3cc4-4a54-4586-f57d-f0a1c8b05e0a"
      },
      "execution_count": 8,
      "outputs": [
        {
          "output_type": "stream",
          "name": "stdout",
          "text": [
            "Model: \"sequential\"\n",
            "_________________________________________________________________\n",
            " Layer (type)                Output Shape              Param #   \n",
            "=================================================================\n",
            " resnet50 (Functional)       (None, 1, 1, 2048)        23587712  \n",
            "                                                                 \n",
            " flatten (Flatten)           (None, 2048)              0         \n",
            "                                                                 \n",
            " dense (Dense)               (None, 1024)              2098176   \n",
            "                                                                 \n",
            " dense_1 (Dense)             (None, 512)               524800    \n",
            "                                                                 \n",
            " dropout (Dropout)           (None, 512)               0         \n",
            "                                                                 \n",
            " dense_2 (Dense)             (None, 256)               131328    \n",
            "                                                                 \n",
            " dropout_1 (Dropout)         (None, 256)               0         \n",
            "                                                                 \n",
            " dense_3 (Dense)             (None, 128)               32896     \n",
            "                                                                 \n",
            " dropout_2 (Dropout)         (None, 128)               0         \n",
            "                                                                 \n",
            " dense_4 (Dense)             (None, 25)                3225      \n",
            "                                                                 \n",
            "=================================================================\n",
            "Total params: 26,378,137\n",
            "Trainable params: 26,325,017\n",
            "Non-trainable params: 53,120\n",
            "_________________________________________________________________\n"
          ]
        }
      ]
    },
    {
      "cell_type": "markdown",
      "source": [
        "### Initialize K-Fold"
      ],
      "metadata": {
        "id": "ww_OnpP1i45s"
      }
    },
    {
      "cell_type": "code",
      "source": [
        "kf = StratifiedKFold(n_splits=5)"
      ],
      "metadata": {
        "id": "ZfxUxjMwUxjG"
      },
      "execution_count": 9,
      "outputs": []
    },
    {
      "cell_type": "markdown",
      "source": [
        "### Compile the model"
      ],
      "metadata": {
        "id": "96rNJ-JQi81f"
      }
    },
    {
      "cell_type": "code",
      "source": [
        "#Compiling model\n",
        "model.compile(optimizer = 'adam', loss = 'categorical_crossentropy', metrics = ['accuracy'])"
      ],
      "metadata": {
        "id": "opLgJnlzC4OB"
      },
      "execution_count": 10,
      "outputs": []
    },
    {
      "cell_type": "code",
      "source": [
        "def to_binary_categorical(array):\n",
        "    new_array = []\n",
        "\n",
        "    for i in range(len(array)):\n",
        "        content = [0] * 25\n",
        "        index = np.argmax(array[i])\n",
        "        content[index] = 1\n",
        "        new_array.append(content)\n",
        "\n",
        "    return new_array"
      ],
      "metadata": {
        "id": "9yl3yShRUiFP"
      },
      "execution_count": 11,
      "outputs": []
    },
    {
      "cell_type": "markdown",
      "source": [
        "### K-Fold Cross Validation"
      ],
      "metadata": {
        "id": "q1AnTN3YjJlt"
      }
    },
    {
      "cell_type": "code",
      "source": [
        "f1_scores = []\n",
        "fold_no = 1\n",
        "\n",
        "for train_index, test_index in kf.split(X_train, y_train):\n",
        "    X_train_fold, X_test_fold = X_train[train_index], X_train[test_index]\n",
        "    y_train_fold, y_test_fold = y_train[train_index], y_train[test_index]\n",
        "\n",
        "    # one-hot\n",
        "    y_train_fold = to_categorical(y_train_fold)\n",
        "    y_test_fold = to_categorical(y_test_fold)\n",
        "\n",
        "    # fit and predict\n",
        "    model.fit(x=X_train_fold, y=y_train_fold)\n",
        "    y_predicted = model.predict(x=X_test_fold)\n",
        "\n",
        "    # convert predicted float values to binary values\n",
        "    y_predicted = to_binary_categorical(y_predicted)\n",
        "    \n",
        "    # calculate score\n",
        "    score = f1_score(y_test_fold, y_predicted, average='micro')\n",
        "    f1_scores.append(score)\n",
        "    print('Score for fold no.', fold_no ,': ',score)\n",
        "    fold_no+=1\n",
        "\n",
        "print(f1_scores)\n",
        "print('Average F1 Score:', mean(f1_scores))"
      ],
      "metadata": {
        "colab": {
          "base_uri": "https://localhost:8080/"
        },
        "id": "h69-h-Ia3kKv",
        "outputId": "4ad012c4-2aa1-466e-987e-91bbc398d838"
      },
      "execution_count": 12,
      "outputs": [
        {
          "output_type": "stream",
          "name": "stdout",
          "text": [
            "687/687 [==============================] - 31s 35ms/step - loss: 1.4928 - accuracy: 0.5432\n",
            "Score for fold no. 1 :  0.1912219996357676\n",
            "687/687 [==============================] - 24s 35ms/step - loss: 0.5766 - accuracy: 0.8053\n",
            "Score for fold no. 2 :  0.7169914405390639\n",
            "687/687 [==============================] - 24s 35ms/step - loss: 0.3350 - accuracy: 0.9053\n",
            "Score for fold no. 3 :  0.7004188672372974\n",
            "687/687 [==============================] - 24s 35ms/step - loss: 0.2078 - accuracy: 0.9500\n",
            "Score for fold no. 4 :  0.7015115643780732\n",
            "687/687 [==============================] - 24s 35ms/step - loss: 0.2156 - accuracy: 0.9564\n",
            "Score for fold no. 5 :  0.913312693498452\n",
            "[0.1912219996357676, 0.7169914405390639, 0.7004188672372974, 0.7015115643780732, 0.913312693498452]\n",
            "Average F1 Score: 0.6446913130577309\n"
          ]
        }
      ]
    },
    {
      "cell_type": "markdown",
      "source": [
        "### Final result"
      ],
      "metadata": {
        "id": "fXPGBPC8-MUC"
      }
    },
    {
      "cell_type": "code",
      "source": [
        "y_test = to_categorical(y_test)\n",
        "\n",
        "y_predicted = model.predict(x=X_test)\n",
        "y_predicted = to_binary_categorical(y_predicted)\n",
        "\n",
        "score = f1_score(y_test, y_predicted, average='micro')\n",
        "print('F1 Score:', score)"
      ],
      "metadata": {
        "id": "lj9ctq0H3mux",
        "colab": {
          "base_uri": "https://localhost:8080/"
        },
        "outputId": "bbe97ad2-86e8-47a5-8ede-7c361dc95bc2"
      },
      "execution_count": 13,
      "outputs": [
        {
          "output_type": "stream",
          "name": "stdout",
          "text": [
            "F1 Score: 0.8417456776352482\n"
          ]
        }
      ]
    }
  ]
}