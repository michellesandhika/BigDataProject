{
 "cells": [
  {
   "cell_type": "code",
   "execution_count": 46,
   "metadata": {},
   "outputs": [],
   "source": [
    "import numpy as np\n",
    "import matplotlib.pyplot as plt\n",
    "from sklearn.metrics import f1_score "
   ]
  },
  {
   "cell_type": "code",
   "execution_count": 8,
   "metadata": {},
   "outputs": [
    {
     "name": "stdout",
     "output_type": "stream",
     "text": [
      "(27456, 785)\n",
      "(7173, 785)\n",
      "(27455, 785)\n",
      "(785,)\n"
     ]
    }
   ],
   "source": [
    "train_data = np.genfromtxt(\"../dataset/sign_mnist_train.csv\",  delimiter=',')\n",
    "test_data = np.genfromtxt(\"../dataset/sign_mnist_test.csv\",  delimiter=',')\n",
    "\n",
    "print(train_data.shape)\n",
    "print(test_data.shape)"
   ]
  },
  {
   "cell_type": "code",
   "execution_count": 41,
   "metadata": {},
   "outputs": [
    {
     "name": "stdout",
     "output_type": "stream",
     "text": [
      "(27455, 784)\n",
      "(27455, 1)\n",
      "[[107. 118. 127. ... 204. 203. 202.]\n",
      " [155. 157. 156. ... 103. 135. 149.]\n",
      " [187. 188. 188. ... 195. 194. 195.]\n",
      " ...\n",
      " [174. 174. 174. ... 202. 200. 200.]\n",
      " [177. 181. 184. ...  64.  87.  93.]\n",
      " [179. 180. 180. ... 205. 209. 215.]]\n"
     ]
    }
   ],
   "source": [
    "X_train = train_data[1:,1:]\n",
    "X_test = test_data[1:,1:]\n",
    "\n",
    "y_train = train_data[1:,0:1]\n",
    "y_test = test_data[1:,0:1]"
   ]
  },
  {
   "cell_type": "code",
   "execution_count": 40,
   "metadata": {},
   "outputs": [
    {
     "name": "stdout",
     "output_type": "stream",
     "text": [
      "[[ 3.]\n",
      " [ 6.]\n",
      " [ 2.]\n",
      " ...\n",
      " [18.]\n",
      " [17.]\n",
      " [23.]]\n",
      "[[ 6.]\n",
      " [ 5.]\n",
      " [10.]\n",
      " ...\n",
      " [ 2.]\n",
      " [ 4.]\n",
      " [ 2.]]\n"
     ]
    }
   ],
   "source": [
    "print(y_train)\n",
    "print(y_test)"
   ]
  },
  {
   "cell_type": "code",
   "execution_count": 51,
   "metadata": {},
   "outputs": [
    {
     "data": {
      "text/plain": [
       "RandomForestClassifier(max_depth=5, random_state=0)"
      ]
     },
     "execution_count": 51,
     "metadata": {},
     "output_type": "execute_result"
    }
   ],
   "source": [
    "from sklearn.ensemble import RandomForestClassifier\n",
    "\n",
    "clf = RandomForestClassifier(max_depth=5, random_state=0)\n",
    "clf.fit(X_train, y_train.ravel())"
   ]
  },
  {
   "cell_type": "code",
   "execution_count": 52,
   "metadata": {},
   "outputs": [
    {
     "name": "stdout",
     "output_type": "stream",
     "text": [
      "0.47490239821528163\n"
     ]
    }
   ],
   "source": [
    "print(f1_score(y_test, clf.predict(X_test), average=\"micro\"))"
   ]
  },
  {
   "cell_type": "code",
   "execution_count": 55,
   "metadata": {},
   "outputs": [
    {
     "data": {
      "text/plain": [
       "KNeighborsClassifier(n_neighbors=3)"
      ]
     },
     "execution_count": 55,
     "metadata": {},
     "output_type": "execute_result"
    }
   ],
   "source": [
    "from sklearn.neighbors import KNeighborsClassifier\n",
    "\n",
    "neigh = KNeighborsClassifier(n_neighbors=3)\n",
    "neigh.fit(X_train, y_train.ravel())"
   ]
  },
  {
   "cell_type": "code",
   "execution_count": 56,
   "metadata": {},
   "outputs": [
    {
     "name": "stdout",
     "output_type": "stream",
     "text": [
      "0.8039598438371445\n"
     ]
    }
   ],
   "source": [
    "print(f1_score(y_test, neigh.predict(X_test), average=\"micro\"))"
   ]
  },
  {
   "cell_type": "code",
   "execution_count": null,
   "metadata": {},
   "outputs": [],
   "source": []
  }
 ],
 "metadata": {
  "kernelspec": {
   "display_name": "Python 3",
   "language": "python",
   "name": "python3"
  },
  "language_info": {
   "codemirror_mode": {
    "name": "ipython",
    "version": 3
   },
   "file_extension": ".py",
   "mimetype": "text/x-python",
   "name": "python",
   "nbconvert_exporter": "python",
   "pygments_lexer": "ipython3",
   "version": "3.8.6"
  }
 },
 "nbformat": 4,
 "nbformat_minor": 4
}
