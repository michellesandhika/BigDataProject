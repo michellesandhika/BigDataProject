{
 "cells": [
  {
   "cell_type": "code",
   "execution_count": 1,
   "metadata": {},
   "outputs": [],
   "source": [
    "import numpy as np\n",
    "import matplotlib.pyplot as plt\n",
    "from sklearn.metrics import f1_score \n",
    "from sklearn.model_selection import KFold\n",
    "from statistics import mean"
   ]
  },
  {
   "cell_type": "code",
   "execution_count": 2,
   "metadata": {},
   "outputs": [
    {
     "name": "stdout",
     "output_type": "stream",
     "text": [
      "(27456, 785)\n",
      "(7173, 785)\n"
     ]
    }
   ],
   "source": [
    "train_data = np.genfromtxt(\"../dataset/sign_mnist_train.csv\",  delimiter=',')\n",
    "test_data = np.genfromtxt(\"../dataset/sign_mnist_test.csv\",  delimiter=',')\n",
    "\n",
    "kf = KFold(n_splits=5)\n",
    "\n",
    "print(train_data.shape)\n",
    "print(test_data.shape)"
   ]
  },
  {
   "cell_type": "code",
   "execution_count": 3,
   "metadata": {},
   "outputs": [],
   "source": [
    "X_train = train_data[1:,1:]\n",
    "X_test = test_data[1:,1:]\n",
    "\n",
    "y_train = train_data[1:,0:1]\n",
    "y_test = test_data[1:,0:1]"
   ]
  },
  {
   "cell_type": "code",
   "execution_count": 4,
   "metadata": {},
   "outputs": [
    {
     "name": "stdout",
     "output_type": "stream",
     "text": [
      "[[ 3.]\n",
      " [ 6.]\n",
      " [ 2.]\n",
      " ...\n",
      " [18.]\n",
      " [17.]\n",
      " [23.]]\n",
      "[[ 6.]\n",
      " [ 5.]\n",
      " [10.]\n",
      " ...\n",
      " [ 2.]\n",
      " [ 4.]\n",
      " [ 2.]]\n"
     ]
    }
   ],
   "source": [
    "print(y_train)\n",
    "print(y_test)"
   ]
  },
  {
   "cell_type": "code",
   "execution_count": 9,
   "metadata": {},
   "outputs": [],
   "source": [
    "from sklearn.ensemble import RandomForestClassifier\n",
    "\n",
    "f1Score_list = []\n",
    "for train_index, test_index in kf.split(X_train):\n",
    "    X_trainFold, X_testFold = X_train[train_index], X_train[test_index]\n",
    "    y_trainFold, y_testFold = y_train[train_index], y_train[test_index]\n",
    "    \n",
    "    clf = RandomForestClassifier(max_depth=10, random_state=0)\n",
    "    clf.fit(X_train, y_train.ravel())\n",
    "    \n",
    "    f1Score_list.append(f1_score(y_testFold, clf.predict(X_testFold), average=\"micro\"))\n"
   ]
  },
  {
   "cell_type": "code",
   "execution_count": 10,
   "metadata": {},
   "outputs": [
    {
     "name": "stdout",
     "output_type": "stream",
     "text": [
      "[0.9914405390639228, 0.9903478419231471, 0.9910763066836642, 0.9914405390639228, 0.9936259333454744]\n",
      "0.9915862320160262\n",
      "0.7288064696040156\n"
     ]
    }
   ],
   "source": [
    "print(f1Score_list)\n",
    "print(mean(f1Score_list))\n",
    "print(f1_score(y_test, clf.predict(X_test), average=\"micro\"))"
   ]
  },
  {
   "cell_type": "code",
   "execution_count": 7,
   "metadata": {},
   "outputs": [],
   "source": [
    "from sklearn.neighbors import KNeighborsClassifier\n",
    "\n",
    "f1Scoreneigh_list = []\n",
    "for train_index, test_index in kf.split(X_train):\n",
    "    X_trainFold, X_testFold = X_train[train_index], X_train[test_index]\n",
    "    y_trainFold, y_testFold = y_train[train_index], y_train[test_index]\n",
    "    \n",
    "    neigh = KNeighborsClassifier(n_neighbors=3)\n",
    "    neigh.fit(X_train, y_train.ravel())\n",
    "    \n",
    "    f1Scoreneigh_list.append(f1_score(y_testFold, neigh.predict(X_testFold), average=\"micro\"))\n"
   ]
  },
  {
   "cell_type": "code",
   "execution_count": 8,
   "metadata": {},
   "outputs": [
    {
     "name": "stdout",
     "output_type": "stream",
     "text": [
      "[0.9996357676197414, 1.0, 1.0, 0.9998178838098707, 0.9998178838098707]\n",
      "0.9998543070478966\n",
      "0.8039598438371445\n"
     ]
    }
   ],
   "source": [
    "print(f1Scoreneigh_list)\n",
    "print(mean(f1Scoreneigh_list))\n",
    "print(f1_score(y_test, neigh.predict(X_test), average=\"micro\"))"
   ]
  },
  {
   "cell_type": "code",
   "execution_count": null,
   "metadata": {},
   "outputs": [],
   "source": []
  }
 ],
 "metadata": {
  "kernelspec": {
   "display_name": "Python 3",
   "language": "python",
   "name": "python3"
  },
  "language_info": {
   "codemirror_mode": {
    "name": "ipython",
    "version": 3
   },
   "file_extension": ".py",
   "mimetype": "text/x-python",
   "name": "python",
   "nbconvert_exporter": "python",
   "pygments_lexer": "ipython3",
   "version": "3.8.6"
  }
 },
 "nbformat": 4,
 "nbformat_minor": 4
}
